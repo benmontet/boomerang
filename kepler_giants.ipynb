{
 "cells": [
  {
   "cell_type": "code",
   "execution_count": 2,
   "metadata": {},
   "outputs": [],
   "source": [
    "import numpy as np\n",
    "import matplotlib.pyplot as plt"
   ]
  },
  {
   "cell_type": "code",
   "execution_count": 3,
   "metadata": {},
   "outputs": [],
   "source": [
    "a = np.genfromtxt('Compare_sample2.txt', dtype=str)\n",
    "\n",
    "b = np.genfromtxt('kepler_rapid_real.txt', skip_header=5, usecols=0, dtype=int)\n",
    "c = np.genfromtxt('kepler_rapid_fps.txt', skip_header=5, usecols=0, dtype=int)\n",
    "\n"
   ]
  },
  {
   "cell_type": "code",
   "execution_count": 23,
   "metadata": {},
   "outputs": [],
   "source": [
    "b_full = np.genfromtxt('kepler_rapid_real.txt', skip_header=5, usecols=[0, 7, 8, 9, 10, 11, 12], dtype=float)"
   ]
  },
  {
   "cell_type": "code",
   "execution_count": 97,
   "metadata": {},
   "outputs": [
    {
     "name": "stdout",
     "output_type": "stream",
     "text": [
      "8212479 yay\n",
      "2.2303552434175735 0.030100015951232566 119.05765005741492\n",
      "Radius = 14.45 +/- 1.03 R_sun; vel = 6.14 +/- 0.55 km/s\n",
      "7739152 yay\n",
      "3.1498232005261535 0.0700433219079838 78.02777296992079\n",
      "Radius = 6.53 +/- 1.07 R_sun; vel = 4.24 +/- 0.79 km/s\n",
      "4743066 yay\n",
      "2.3805464248811754 0.029898110558675 52.5674155337217\n",
      "Radius = 11.22 +/- 0.86 R_sun; vel = 10.78 +/- 1.36 km/s\n",
      "2305930 yay\n",
      "2.3701140797002584 0.030083638232526532 33.70862601442969\n",
      "Radius = 9.93 +/- 0.75 R_sun; vel = 14.88 +/- 1.60 km/s\n",
      "11144902 yay\n",
      "2.39981153560308 0.029826550564752634 98.16064350295244\n",
      "Radius = 10.80 +/- 2.36 R_sun; vel = 5.56 +/- 1.25 km/s\n",
      "7905528 yay\n",
      "2.6696225064465926 0.02007987823214769 104.2115327815437\n",
      "Radius = 8.60 +/- 0.46 R_sun; vel = 4.18 +/- 1.40 km/s\n",
      "7547646 yay\n",
      "2.7295551580475643 0.020265274881033676 85.37681851689156\n",
      "Radius = 11.91 +/- 0.67 R_sun; vel = 7.04 +/- 0.54 km/s\n",
      "9364778 yay\n",
      "2.4810959750611765 0.03990053036509974 105.18637381873988\n",
      "Radius = 14.31 +/- 1.33 R_sun; vel = 6.88 +/- 0.67 km/s\n",
      "48\n"
     ]
    }
   ],
   "source": [
    "n = 0\n",
    "\n",
    "for star in range(len(a)):\n",
    "    if a[star][1] == 'OGK':\n",
    "        n += 1\n",
    "        kic = int(a[star][0][4:])\n",
    "        \n",
    "        if kic in b:\n",
    "            print(str(kic) + ' yay')\n",
    "            row = np.abs(b_full[:,0] - int(kic)) < 0.01\n",
    "            good = b_full[row][0]\n",
    "            \n",
    "            logg = np.random.normal(good[1], good[2], 10000)\n",
    "            M = np.random.normal(good[3], good[4], 10000)\n",
    "            Prot = np.random.normal(good[5], good[6], 10000)\n",
    "            g = 10**logg\n",
    "\n",
    "            G_const = 27488\n",
    "\n",
    "            R = np.sqrt(G_const * M[M>0] / g[M>0])\n",
    "\n",
    "            v = 8.05 * 2*np.pi*R / Prot[M>0]\n",
    "            print(np.median(logg), np.std(logg), np.median(Prot))\n",
    "            print('Radius = {0:04.2f} +/- {1:04.2f} R_sun; vel = {2:04.2f} +/- {3:04.2f} km/s'.format(np.median(R), np.std(R), np.median(v), np.std(v)))\n",
    "\n",
    "            \n",
    "        if kic in c:\n",
    "            print('yay!')\n",
    "            \n",
    "print(n)"
   ]
  },
  {
   "cell_type": "code",
   "execution_count": 5,
   "metadata": {},
   "outputs": [],
   "source": [
    "from tqdm import trange"
   ]
  },
  {
   "cell_type": "code",
   "execution_count": 6,
   "metadata": {},
   "outputs": [
    {
     "name": "stderr",
     "output_type": "stream",
     "text": [
      "100%|██████████| 1000000/1000000 [00:08<00:00, 116364.80it/s]"
     ]
    },
    {
     "name": "stdout",
     "output_type": "stream",
     "text": [
      "8\n"
     ]
    },
    {
     "name": "stderr",
     "output_type": "stream",
     "text": [
      "\n"
     ]
    }
   ],
   "source": [
    "ct = 0\n",
    "for i in trange(1000000):\n",
    "    rang = np.random.uniform(0, 1, 48)\n",
    "    if np.sum(rang < 0.0208) >= 8:\n",
    "        ct += 1\n",
    "        \n",
    "print(ct)\n",
    "    "
   ]
  },
  {
   "cell_type": "code",
   "execution_count": 7,
   "metadata": {},
   "outputs": [
    {
     "data": {
      "text/plain": [
       "6e-06"
      ]
     },
     "execution_count": 7,
     "metadata": {},
     "output_type": "execute_result"
    }
   ],
   "source": [
    "6/1e6"
   ]
  },
  {
   "cell_type": "code",
   "execution_count": 8,
   "metadata": {},
   "outputs": [
    {
     "data": {
      "text/plain": [
       "3.1671e-05"
      ]
     },
     "execution_count": 8,
     "metadata": {},
     "output_type": "execute_result"
    }
   ],
   "source": [
    "0.000031671"
   ]
  },
  {
   "cell_type": "code",
   "execution_count": 31,
   "metadata": {},
   "outputs": [],
   "source": [
    "row = np.abs(b_full[:,0] - 7739152) < 0.01"
   ]
  },
  {
   "cell_type": "code",
   "execution_count": 32,
   "metadata": {},
   "outputs": [
    {
     "name": "stdout",
     "output_type": "stream",
     "text": [
      "[7.739152e+06 3.150000e+00 7.000000e-02 2.210000e+00 6.000000e-01\n",
      " 7.808000e+01 6.710000e+00]\n"
     ]
    }
   ],
   "source": [
    "good = b_full[row][0]\n",
    "print(good)"
   ]
  },
  {
   "cell_type": "code",
   "execution_count": 33,
   "metadata": {},
   "outputs": [
    {
     "name": "stdout",
     "output_type": "stream",
     "text": [
      "42.67655113529989 13.809756719980099 3.427296669507873 1.1739528731409792\n"
     ]
    }
   ],
   "source": [
    "logg = np.random.normal(good[1], good[2], 10000)\n",
    "M = np.random.normal(good[3], good[4], 10000)\n",
    "Prot = np.random.normal(good[5], good[6], 10000)\n",
    "g = 10**logg\n",
    "\n",
    "G_const = 27488\n",
    "\n",
    "R = G_const * M / g\n",
    "\n",
    "v = 2*np.pi*R / Prot\n",
    "\n",
    "print(np.median(R), np.std(R), np.median(v), np.std(v))"
   ]
  },
  {
   "cell_type": "code",
   "execution_count": 54,
   "metadata": {},
   "outputs": [
    {
     "data": {
      "text/plain": [
       "(array([ 0., 10., 13., 14., 28., 27., 28., 26., 17., 23., 14., 17., 17.,\n",
       "        14., 16., 17., 12., 21.,  8.,  5.,  5.,  0.,  3.,  2.,  0.,  0.,\n",
       "         0.,  0.,  0.,  0.,  0.,  0.,  0.,  1.,  0.,  1.,  0.,  3.,  0.,\n",
       "         1.,  1.,  0.,  1.,  0.,  0.,  1.,  0.,  0.,  0.]),\n",
       " array([ 0,  1,  2,  3,  4,  5,  6,  7,  8,  9, 10, 11, 12, 13, 14, 15, 16,\n",
       "        17, 18, 19, 20, 21, 22, 23, 24, 25, 26, 27, 28, 29, 30, 31, 32, 33,\n",
       "        34, 35, 36, 37, 38, 39, 40, 41, 42, 43, 44, 45, 46, 47, 48, 49]),\n",
       " <a list of 49 Patch objects>)"
      ]
     },
     "execution_count": 54,
     "metadata": {},
     "output_type": "execute_result"
    },
    {
     "data": {
      "image/png": "[encoded data removed]",
      "text/plain": [
       "<Figure size 432x288 with 1 Axes>"
      ]
     },
     "metadata": {},
     "output_type": "display_data"
    }
   ],
   "source": [
    "logg = b_full[:,1]\n",
    "M = b_full[:,3]\n",
    "Prot = b_full[:,5]\n",
    "g = 10**logg\n",
    "\n",
    "G_const = 27488\n",
    "\n",
    "R = G_const * M / g\n",
    "\n",
    "v = 2*np.pi*R / Prot\n",
    "\n",
    "plt.hist(v, np.arange(0, 50, 1))"
   ]
  },
  {
   "cell_type": "code",
   "execution_count": 63,
   "metadata": {},
   "outputs": [],
   "source": [
    "allstars = np.loadtxt('RedGiants.txt', usecols=[0, 3, 4, 7, 8, 9, 10], delimiter='|', skiprows=1)"
   ]
  },
  {
   "cell_type": "code",
   "execution_count": 75,
   "metadata": {},
   "outputs": [
    {
     "data": {
      "text/plain": [
       "array([], shape=(0, 7), dtype=float64)"
      ]
     },
     "execution_count": 75,
     "metadata": {},
     "output_type": "execute_result"
    }
   ],
   "source": [
    "allstars[allstars[:,0] == 9116231]"
   ]
  },
  {
   "cell_type": "code",
   "execution_count": 76,
   "metadata": {},
   "outputs": [],
   "source": [
    "from astropy.coordinates import SkyCoord\n",
    "import astropy.units as u\n",
    "import numpy as np\n",
    "import matplotlib.pyplot as plt\n",
    "\n",
    "from astroquery.simbad import Simbad"
   ]
  },
  {
   "cell_type": "code",
   "execution_count": 78,
   "metadata": {},
   "outputs": [],
   "source": [
    "customSimbad = Simbad()\n",
    "customSimbad.add_votable_fields('ra')\n",
    "customSimbad.add_votable_fields('dec')\n",
    "\n",
    "from astroquery.vizier import Vizier\n",
    "from astropy.coordinates import Angle"
   ]
  },
  {
   "cell_type": "code",
   "execution_count": 105,
   "metadata": {},
   "outputs": [
    {
     "name": "stdout",
     "output_type": "stream",
     "text": [
      "-- --\n",
      "nan nan\n"
     ]
    },
    {
     "name": "stderr",
     "output_type": "stream",
     "text": [
      "/Users/ozymandias1/anaconda2/envs/python3/lib/python3.5/site-packages/ipykernel/__main__.py:14: UserWarning: Warning: converting a masked element to nan.\n",
      "/Users/ozymandias1/anaconda2/envs/python3/lib/python3.5/site-packages/numpy/lib/function_base.py:4033: RuntimeWarning: Invalid value encountered in median\n",
      "  r = func(a, **kwargs)\n"
     ]
    }
   ],
   "source": [
    "vquery = Vizier(columns=['**','Source', 'RA_ICRS', 'DE_ICRS', '_r',\n",
    "                             'Gmag', 'pmRA', 'e_pmRA', 'pmDE', 'e_pmDE', 'pmRApmDEcor', 'Plx', 'e_Plx', 'PlxpmRAcor', 'PlxpmDEcor', 'radial_velocity', 'radial_velocity_error', 'rv_nb_transits', 'astrometric_excess_noise_sig'])\n",
    "\n",
    "#coord = SkyCoord(ra=ra, dec=dec, unit=(u.degree, u.degree), frame='icrs')\n",
    "result = vquery.query_object(\"KIC 9116231\", catalog=[\"I/345/gaia2\"])\n",
    "\n",
    "closest = np.where(result[0]['_r'] == np.min(result[0]['_r']))\n",
    "res = result[0][:][closest][0]\n",
    "\n",
    "sig = 0.5*(res['B_Rad'] - res['b_Rad'])\n",
    "\n",
    "print(res['Rad'], sig)\n",
    "\n",
    "radval = np.random.normal(res['Rad'], sig, 10000)\n",
    "\n",
    "v = 8.05 * 2*np.pi*radval/Prot \n",
    "\n",
    "print(np.median(v), np.std(v))\n"
   ]
  },
  {
   "cell_type": "code",
   "execution_count": null,
   "metadata": {},
   "outputs": [],
   "source": []
  }
 ],
 "metadata": {
  "anaconda-cloud": {},
  "kernelspec": {
   "display_name": "Python [python3]",
   "language": "python",
   "name": "Python [python3]"
  },
  "language_info": {
   "codemirror_mode": {
    "name": "ipython",
    "version": 3
   },
   "file_extension": ".py",
   "mimetype": "text/x-python",
   "name": "python",
   "nbconvert_exporter": "python",
   "pygments_lexer": "ipython3",
   "version": "3.5.2"
  }
 },
 "nbformat": 4,
 "nbformat_minor": 2
}
