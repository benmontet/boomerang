{
 "cells": [
  {
   "cell_type": "code",
   "execution_count": 1,
   "metadata": {},
   "outputs": [],
   "source": [
    "import numpy as np\n",
    "from tess_stars2px import tess_stars2px_function_entry\n",
    "\n",
    "from tqdm import trange"
   ]
  },
  {
   "cell_type": "code",
   "execution_count": 2,
   "metadata": {},
   "outputs": [],
   "source": [
    "a = np.loadtxt('Andy_Li_rich.txt', usecols=[1,2], skiprows=0, delimiter=' ')"
   ]
  },
  {
   "cell_type": "code",
   "execution_count": 3,
   "metadata": {},
   "outputs": [],
   "source": [
    "obs = list(range(13))"
   ]
  },
  {
   "cell_type": "code",
   "execution_count": 5,
   "metadata": {},
   "outputs": [
    {
     "name": "stderr",
     "output_type": "stream",
     "text": [
      "100%|██████████| 2330/2330 [05:49<00:00,  6.66it/s]"
     ]
    },
    {
     "name": "stdout",
     "output_type": "stream",
     "text": [
      "411\n"
     ]
    },
    {
     "name": "stderr",
     "output_type": "stream",
     "text": [
      "\n"
     ]
    }
   ],
   "source": [
    "in_many = 0\n",
    "\n",
    "good_targs = np.array([], dtype=int)\n",
    "\n",
    "for i in trange(len(a)):\n",
    "    ra = a[i,0]\n",
    "    dec = a[i,1]\n",
    "    ticid = 11111111\n",
    "    \n",
    "    outID, outEclipLong, outEclipLat, outSec, outCam, outCcd, \\\n",
    "    outColPix, outRowPix, scinfo = tess_stars2px_function_entry(\n",
    "            ticid, ra, dec)\n",
    "    \n",
    "    match = list(set(outSec) & set(obs))\n",
    "    \n",
    "    if len(match) > 0.5:\n",
    "        in_many += 1\n",
    "        \n",
    "        good_targs = np.append(good_targs, i)\n",
    "        \n",
    "print(in_many)"
   ]
  },
  {
   "cell_type": "code",
   "execution_count": 9,
   "metadata": {},
   "outputs": [
    {
     "data": {
      "text/plain": [
       "347"
      ]
     },
     "execution_count": 9,
     "metadata": {},
     "output_type": "execute_result"
    }
   ],
   "source": [
    "len(np.unique(a[good_targs, 1]))"
   ]
  },
  {
   "cell_type": "code",
   "execution_count": null,
   "metadata": {},
   "outputs": [],
   "source": []
  }
 ],
 "metadata": {
  "kernelspec": {
   "display_name": "Python [python3]",
   "language": "python",
   "name": "Python [python3]"
  },
  "language_info": {
   "codemirror_mode": {
    "name": "ipython",
    "version": 3
   },
   "file_extension": ".py",
   "mimetype": "text/x-python",
   "name": "python",
   "nbconvert_exporter": "python",
   "pygments_lexer": "ipython3",
   "version": "3.5.2"
  }
 },
 "nbformat": 4,
 "nbformat_minor": 2
}
